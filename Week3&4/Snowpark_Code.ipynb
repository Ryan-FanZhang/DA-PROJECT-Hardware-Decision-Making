{
 "cells": [
  {
   "attachments": {},
   "cell_type": "markdown",
   "metadata": {},
   "source": [
    "#### Project Targets:\n",
    "- Summary of Top 5 Alert Codes (September 2021)\n",
    "- Develop data-driven solutions to mitigate the issue of high manual queue checks\n",
    "- Validation using data from OCT/21 to Jan/22"
   ]
  },
  {
   "attachments": {},
   "cell_type": "markdown",
   "metadata": {},
   "source": [
    "#### PART ONE: CREATE THE CONNECTION TO SNOWFLAKE AND USE SNOWPARK"
   ]
  },
  {
   "cell_type": "code",
   "execution_count": null,
   "metadata": {
    "vscode": {
     "languageId": "plaintext"
    }
   },
   "outputs": [],
   "source": [
    "# import packages\n",
    "\n",
    "from snowflake.snowpark.functions import *\n",
    "from snowflake.snowpark import Session\n",
    "import pandas as pd"
   ]
  },
  {
   "cell_type": "code",
   "execution_count": null,
   "metadata": {
    "vscode": {
     "languageId": "plaintext"
    }
   },
   "outputs": [],
   "source": [
    ">>> connection_parameters = {\n",
    "...    \"account\": \"<your snowflake account>\",\n",
    "...    \"user\": \"<your snowflake user>\",\n",
    "...    \"password\": \"<your snowflake password>\",\n",
    "...    \"role\": \"<your snowflake role>\",  # optional\n",
    "...    \"warehouse\": \"<your snowflake warehouse>\",  # optional\n",
    "...    \"database\": \"<your snowflake database>\",  # optional\n",
    "...    \"schema\": \"<your snowflake schema>\",  # optional\n",
    "...  }  \n",
    "\n",
    ">>> session = Session.builder.configs(connection_parameters).create()"
   ]
  },
  {
   "attachments": {},
   "cell_type": "markdown",
   "metadata": {},
   "source": [
    "#### PART TWO: EXPLORT THE DATA - APPLICATIONS"
   ]
  },
  {
   "cell_type": "code",
   "execution_count": null,
   "metadata": {
    "vscode": {
     "languageId": "plaintext"
    }
   },
   "outputs": [],
   "source": [
    "# get the master data\n",
    "\n",
    "df_applications = session.table('DB_NAME.SCHEMA_NAME.applications')\\\n",
    "                         .select('*')\n",
    "\n",
    "applications_df.show()"
   ]
  },
  {
   "cell_type": "code",
   "execution_count": null,
   "metadata": {
    "vscode": {
     "languageId": "plaintext"
    }
   },
   "outputs": [],
   "source": [
    "# only pick up Sep/21\n",
    "df_applications_sep = df_applications.filter(\n",
    "                                              (col('submit_dt') >= '2021-09-01')\n",
    "                                            & (col('submit_dt') < '2021-10-01')\n",
    "                                            )"
   ]
  },
  {
   "cell_type": "code",
   "execution_count": null,
   "metadata": {
    "vscode": {
     "languageId": "plaintext"
    }
   },
   "outputs": [],
   "source": [
    "# assign a hardward flag to the applications\n",
    "df_applications_1 = df_applications_sep.withColumn('hardware_fg', when(col('product_name')).isNotNull(), 'Y').otherwise('N')\n",
    "\n",
    "# Only look at the hardware applications\n",
    "df_applications_1_final = df_applications_1.filter(col('hardware_fg') == 'Y')"
   ]
  },
  {
   "attachments": {},
   "cell_type": "markdown",
   "metadata": {},
   "source": [
    "#### PART THREE: GET THE VISA INFO"
   ]
  },
  {
   "cell_type": "code",
   "execution_count": null,
   "metadata": {
    "vscode": {
     "languageId": "plaintext"
    }
   },
   "outputs": [],
   "source": [
    "# Get the visa infomation from table Passport \n",
    "\n",
    "df_passport = session.table('DB_NAME.SCHEMA_NAME.Passport')\\\n",
    "                     .select('*')\n",
    "df_passport.show()"
   ]
  },
  {
   "cell_type": "code",
   "execution_count": null,
   "metadata": {
    "vscode": {
     "languageId": "plaintext"
    }
   },
   "outputs": [],
   "source": [
    "# dealing with the missing values of the cd_type_visa and in the passport dataset\n",
    "# rename cd_type_visa to visa_status\n",
    "df_passport_1 = df_passport.withColumn('visa_status', when(col('cd_type_visa')).isNotNull(), col('cd_type_visa')).otherwise('N/A')\n",
    "\n",
    "# drop cd_type_visa\n",
    "df_passport_2 = df_passport_1.drop('cd_type_visa')"
   ]
  },
  {
   "cell_type": "code",
   "execution_count": null,
   "metadata": {
    "vscode": {
     "languageId": "plaintext"
    }
   },
   "outputs": [],
   "source": [
    "# select visa_status from passport to join master data \n",
    "df_passport_3 = df_passport_2.select([\n",
    "                                    col('uuid').name('b_uuid'),\n",
    "                                    col('submit_dt').name('b_submit_dt')\n",
    "                                     'visa_status'\n",
    "                                     ])\n",
    "\n",
    "df_apps_visa = df_applications_1_final.join(df_passport_3, \n",
    "                                                        (df_applications_1_final.uuid == df_passport_3.b_uuid) &\n",
    "                                                        (df_applications_1_final.submit_dt == df_passport_3.b_submit_dt), \n",
    "                                                        'left'\n",
    "                                                        )\\\n",
    "                                      .drop(['b_uuid', 'b_submit_dt'])\\\n",
    "                                      .distinct()\\\n",
    "                                      .sort(col('submit_dt').asc())\n",
    "\n",
    "df_apps_visa.show()"
   ]
  },
  {
   "attachments": {},
   "cell_type": "markdown",
   "metadata": {},
   "source": [
    "#### PART THREE: GET THE ALERT INFO"
   ]
  },
  {
   "cell_type": "code",
   "execution_count": null,
   "metadata": {
    "vscode": {
     "languageId": "plaintext"
    }
   },
   "outputs": [],
   "source": [
    "# Get the alert info\n",
    "df_alert = session.table('DB_NAME.SCHEMA_NAME.alert')\\\n",
    "                  .select('*')\n",
    "df_alert.show()"
   ]
  },
  {
   "cell_type": "code",
   "execution_count": null,
   "metadata": {
    "vscode": {
     "languageId": "plaintext"
    }
   },
   "outputs": [],
   "source": [
    "# Only looking at 'Decline-Pending', 'Refer', 'BiometricsRequired'\n",
    "df_alert_1 = df_alert.filter(col('status')._in(['Decline-Pending', 'Refer', 'BiometricsRequired']))"
   ]
  },
  {
   "cell_type": "code",
   "execution_count": null,
   "metadata": {
    "vscode": {
     "languageId": "plaintext"
    }
   },
   "outputs": [],
   "source": [
    "# select alert_code to join into master data \n",
    "df_alert_2 = df_alert_1.select([\n",
    "                                    col('uuid').name('b_uuid'),\n",
    "                                    col('submit_dt').name('b_submit_dt')\n",
    "                                     'alert_code'\n",
    "                                     ])\n",
    "\n",
    "df_apps_visa_alert = df_apps_visa.join(df_alert_2, \n",
    "                                                        (df_apps_visa.uuid == df_alert_2.b_uuid) &\n",
    "                                                        (df_apps_visa.submit_dt == df_alert_2.b_submit_dt), \n",
    "                                                        'left'\n",
    "                                                        )\\\n",
    "                                      .drop(['b_uuid', 'b_submit_dt'])\\\n",
    "                                      .distinct()\\\n",
    "                                      .sort(col('submit_dt').asc())\n",
    "df_apps_visa_alert.show()"
   ]
  },
  {
   "cell_type": "code",
   "execution_count": null,
   "metadata": {
    "vscode": {
     "languageId": "plaintext"
    }
   },
   "outputs": [],
   "source": [
    "# get the alert_code_desc based on the code_desc introduction\n",
    "ddf_apps_visa_alert_1 = f_apps_visa_alert.withColumn('alert_code_desc', when(col('alert_code').isin(['D18','D181']), 'D - Scorecard Related'),\n",
    "                                                                        when(col('alert_code').isin([\"D2\", \"D32\", \"D7\"]), 'D - Debt related'),\n",
    "                                                                        when(col('alert_code').isin([\"D20\", \"D99\"]), 'D - Eligibility'),\n",
    "                                                                        when(col('alert_code') == \"D222\", 'D - Collections related'),\n",
    "                                                                        when(col('alert_code') == \"D300\", 'D - Iovation related'),\n",
    "                                                                        when(col('alert_code').isin([\"D43\", \"D44\", \"D30\"]), 'D - Business eligibility'),\n",
    "                                                                        when(col('alert_code').isin([\"D55\", \"D56\"]), 'D - Business debt related')\n",
    "                                                    ).otherwise(None)"
   ]
  },
  {
   "attachments": {},
   "cell_type": "markdown",
   "metadata": {},
   "source": [
    "#### PART THREE: GET THE QUEUES INFO"
   ]
  },
  {
   "cell_type": "code",
   "execution_count": null,
   "metadata": {
    "vscode": {
     "languageId": "plaintext"
    }
   },
   "outputs": [],
   "source": [
    "# Get the Queues info\n",
    "df_queues = session.table('DB_NAME.SCHEMA_NAME.queues_info')\\\n",
    "                  .select('*')\n",
    "df_queues.show()"
   ]
  },
  {
   "cell_type": "code",
   "execution_count": null,
   "metadata": {
    "vscode": {
     "languageId": "plaintext"
    }
   },
   "outputs": [],
   "source": [
    "# only pick up queue_id\n",
    "df_queues_1 = df_queues.select([\n",
    "                                    col('uuid').name('b_uuid'),\n",
    "                                    col('submit_dt').name('b_submit_dt')\n",
    "                                     'QUEUE_ID'\n",
    "                                     ])"
   ]
  },
  {
   "cell_type": "code",
   "execution_count": null,
   "metadata": {
    "vscode": {
     "languageId": "plaintext"
    }
   },
   "outputs": [],
   "source": [
    "# join into master data \n",
    "df_sum_final = df_apps_visa_alert_1.join(df_queues_1, \n",
    "                                                        (df_apps_visa_alert_1.uuid == df_queues_1.b_uuid) &\n",
    "                                                        (df_apps_visa_alert_1.submit_dt == df_queues_1.b_submit_dt), \n",
    "                                                        'left'\n",
    "                                                        )\\\n",
    "                                      .drop(['b_uuid', 'b_submit_dt'])\\\n",
    "                                      .distinct()\\\n",
    "                                      .sort(col('submit_dt').asc())"
   ]
  },
  {
   "cell_type": "code",
   "execution_count": null,
   "metadata": {
    "vscode": {
     "languageId": "plaintext"
    }
   },
   "outputs": [],
   "source": [
    "# Divided order into manual queue and automatic queue with a flag \n",
    "df_sum_final_1 = df_sum_final.withColumn('queue_flag', when(col('queuue_id').isin(['BUREAU ERROR QUEUE DEALER',\n",
    "                                                                                   'BUREAU ERROR QUEUE NONDEALER',\n",
    "                                                                                   'CUSTOMER ENRICHMENT QUEUE',\n",
    "                                                                                   'FINAL REFER QUEUE DEALER',\n",
    "                                                                                   'FINAL REFER QUEUE NONDEALER',\n",
    "                                                                                   'NO ID QUEUE','ONLINE AUTOMATION QUEUE',\n",
    "                                                                                   'BUREAU ERROR QUEUE',\n",
    "                                                                                   'IDENTIFICATION ERROR QUEUE'\n",
    "                                                                                   ]), 'Manual Queue'\n",
    "                                                            ).otherwise('Automation Queue'))\n",
    "\n"
   ]
  },
  {
   "cell_type": "code",
   "execution_count": null,
   "metadata": {
    "vscode": {
     "languageId": "plaintext"
    }
   },
   "outputs": [],
   "source": [
    "# Output as a csv folder stored in local using pandas \n",
    "df_sum = df_sum_final_1.to_pandas()\n",
    "\n",
    "df_sum.to_csv('file_name.csv')"
   ]
  }
 ],
 "metadata": {
  "language_info": {
   "name": "python"
  },
  "orig_nbformat": 4
 },
 "nbformat": 4,
 "nbformat_minor": 2
}
